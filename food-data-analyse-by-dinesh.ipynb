{
 "cells": [
  {
   "cell_type": "code",
   "execution_count": 1,
   "id": "cd702fe4",
   "metadata": {
    "_cell_guid": "b1076dfc-b9ad-4769-8c92-a6c4dae69d19",
    "_uuid": "8f2839f25d086af736a60e9eeb907d3b93b6e0e5",
    "execution": {
     "iopub.execute_input": "2024-03-28T21:59:23.081856Z",
     "iopub.status.busy": "2024-03-28T21:59:23.081398Z",
     "iopub.status.idle": "2024-03-28T21:59:24.043783Z",
     "shell.execute_reply": "2024-03-28T21:59:24.041841Z"
    },
    "papermill": {
     "duration": 0.981448,
     "end_time": "2024-03-28T21:59:24.046948",
     "exception": false,
     "start_time": "2024-03-28T21:59:23.065500",
     "status": "completed"
    },
    "tags": []
   },
   "outputs": [
    {
     "name": "stdout",
     "output_type": "stream",
     "text": [
      "/kaggle/input/online-food-dataset/onlinefoods.csv\n"
     ]
    }
   ],
   "source": [
    "# This Python 3 environment comes with many helpful analytics libraries installed\n",
    "# It is defined by the kaggle/python Docker image: https://github.com/kaggle/docker-python\n",
    "# For example, here's several helpful packages to load\n",
    "\n",
    "import numpy as np # linear algebra\n",
    "import pandas as pd # data processing, CSV file I/O (e.g. pd.read_csv)\n",
    "\n",
    "# Input data files are available in the read-only \"../input/\" directory\n",
    "# For example, running this (by clicking run or pressing Shift+Enter) will list all files under the input directory\n",
    "\n",
    "import os\n",
    "for dirname, _, filenames in os.walk('/kaggle/input'):\n",
    "    for filename in filenames:\n",
    "        print(os.path.join(dirname, filename))\n",
    "\n",
    "# You can write up to 20GB to the current directory (/kaggle/working/) that gets preserved as output when you create a version using \"Save & Run All\" \n",
    "# You can also write temporary files to /kaggle/temp/, but they won't be saved outside of the current session"
   ]
  },
  {
   "cell_type": "code",
   "execution_count": 2,
   "id": "455cc113",
   "metadata": {
    "execution": {
     "iopub.execute_input": "2024-03-28T21:59:24.078510Z",
     "iopub.status.busy": "2024-03-28T21:59:24.077503Z",
     "iopub.status.idle": "2024-03-28T21:59:24.082776Z",
     "shell.execute_reply": "2024-03-28T21:59:24.081922Z"
    },
    "papermill": {
     "duration": 0.023483,
     "end_time": "2024-03-28T21:59:24.085225",
     "exception": false,
     "start_time": "2024-03-28T21:59:24.061742",
     "status": "completed"
    },
    "tags": []
   },
   "outputs": [],
   "source": [
    "#Importing Required Libraries\n",
    "# import pandas as pd\n",
    "# import numpy as np\n",
    "import matplotlib.pyplot as plt"
   ]
  },
  {
   "cell_type": "code",
   "execution_count": 3,
   "id": "ea3df8d2",
   "metadata": {
    "execution": {
     "iopub.execute_input": "2024-03-28T21:59:24.115284Z",
     "iopub.status.busy": "2024-03-28T21:59:24.114473Z",
     "iopub.status.idle": "2024-03-28T21:59:24.138063Z",
     "shell.execute_reply": "2024-03-28T21:59:24.137058Z"
    },
    "papermill": {
     "duration": 0.041717,
     "end_time": "2024-03-28T21:59:24.140670",
     "exception": false,
     "start_time": "2024-03-28T21:59:24.098953",
     "status": "completed"
    },
    "tags": []
   },
   "outputs": [],
   "source": [
    "data=pd.read_csv(\"/kaggle/input/online-food-dataset/onlinefoods.csv\")"
   ]
  },
  {
   "cell_type": "code",
   "execution_count": 4,
   "id": "d2089219",
   "metadata": {
    "execution": {
     "iopub.execute_input": "2024-03-28T21:59:24.173059Z",
     "iopub.status.busy": "2024-03-28T21:59:24.172655Z",
     "iopub.status.idle": "2024-03-28T21:59:24.201843Z",
     "shell.execute_reply": "2024-03-28T21:59:24.200427Z"
    },
    "papermill": {
     "duration": 0.048292,
     "end_time": "2024-03-28T21:59:24.204601",
     "exception": false,
     "start_time": "2024-03-28T21:59:24.156309",
     "status": "completed"
    },
    "tags": []
   },
   "outputs": [
    {
     "name": "stdout",
     "output_type": "stream",
     "text": [
      "<class 'pandas.core.frame.DataFrame'>\n",
      "RangeIndex: 388 entries, 0 to 387\n",
      "Data columns (total 13 columns):\n",
      " #   Column                      Non-Null Count  Dtype  \n",
      "---  ------                      --------------  -----  \n",
      " 0   Age                         388 non-null    int64  \n",
      " 1   Gender                      388 non-null    object \n",
      " 2   Marital Status              388 non-null    object \n",
      " 3   Occupation                  388 non-null    object \n",
      " 4   Monthly Income              388 non-null    object \n",
      " 5   Educational Qualifications  388 non-null    object \n",
      " 6   Family size                 388 non-null    int64  \n",
      " 7   latitude                    388 non-null    float64\n",
      " 8   longitude                   388 non-null    float64\n",
      " 9   Pin code                    388 non-null    int64  \n",
      " 10  Output                      388 non-null    object \n",
      " 11  Feedback                    388 non-null    object \n",
      " 12  Unnamed: 12                 388 non-null    object \n",
      "dtypes: float64(2), int64(3), object(8)\n",
      "memory usage: 39.5+ KB\n"
     ]
    }
   ],
   "source": [
    "#Info About Dataset\n",
    "data.info()"
   ]
  },
  {
   "cell_type": "code",
   "execution_count": 5,
   "id": "f76f7816",
   "metadata": {
    "execution": {
     "iopub.execute_input": "2024-03-28T21:59:24.237667Z",
     "iopub.status.busy": "2024-03-28T21:59:24.237229Z",
     "iopub.status.idle": "2024-03-28T21:59:24.245682Z",
     "shell.execute_reply": "2024-03-28T21:59:24.244427Z"
    },
    "papermill": {
     "duration": 0.026774,
     "end_time": "2024-03-28T21:59:24.248517",
     "exception": false,
     "start_time": "2024-03-28T21:59:24.221743",
     "status": "completed"
    },
    "tags": []
   },
   "outputs": [
    {
     "data": {
      "text/plain": [
       "pandas.core.frame.DataFrame"
      ]
     },
     "execution_count": 5,
     "metadata": {},
     "output_type": "execute_result"
    }
   ],
   "source": [
    "type(data)"
   ]
  },
  {
   "cell_type": "code",
   "execution_count": 6,
   "id": "ce5f75ab",
   "metadata": {
    "execution": {
     "iopub.execute_input": "2024-03-28T21:59:24.280223Z",
     "iopub.status.busy": "2024-03-28T21:59:24.278962Z",
     "iopub.status.idle": "2024-03-28T21:59:24.286236Z",
     "shell.execute_reply": "2024-03-28T21:59:24.285203Z"
    },
    "papermill": {
     "duration": 0.025728,
     "end_time": "2024-03-28T21:59:24.288658",
     "exception": false,
     "start_time": "2024-03-28T21:59:24.262930",
     "status": "completed"
    },
    "tags": []
   },
   "outputs": [
    {
     "data": {
      "text/plain": [
       "(388, 13)"
      ]
     },
     "execution_count": 6,
     "metadata": {},
     "output_type": "execute_result"
    }
   ],
   "source": [
    "#Shape\n",
    "data.shape"
   ]
  },
  {
   "cell_type": "code",
   "execution_count": 7,
   "id": "005764fa",
   "metadata": {
    "execution": {
     "iopub.execute_input": "2024-03-28T21:59:24.319443Z",
     "iopub.status.busy": "2024-03-28T21:59:24.318235Z",
     "iopub.status.idle": "2024-03-28T21:59:24.326591Z",
     "shell.execute_reply": "2024-03-28T21:59:24.325378Z"
    },
    "papermill": {
     "duration": 0.026243,
     "end_time": "2024-03-28T21:59:24.328996",
     "exception": false,
     "start_time": "2024-03-28T21:59:24.302753",
     "status": "completed"
    },
    "tags": []
   },
   "outputs": [
    {
     "data": {
      "text/plain": [
       "Index(['Age', 'Gender', 'Marital Status', 'Occupation', 'Monthly Income',\n",
       "       'Educational Qualifications', 'Family size', 'latitude', 'longitude',\n",
       "       'Pin code', 'Output', 'Feedback', 'Unnamed: 12'],\n",
       "      dtype='object')"
      ]
     },
     "execution_count": 7,
     "metadata": {},
     "output_type": "execute_result"
    }
   ],
   "source": [
    "#Columns\n",
    "data.columns\n",
    "# data.keys()"
   ]
  },
  {
   "cell_type": "code",
   "execution_count": 8,
   "id": "d8d2d5e3",
   "metadata": {
    "execution": {
     "iopub.execute_input": "2024-03-28T21:59:24.360059Z",
     "iopub.status.busy": "2024-03-28T21:59:24.359649Z",
     "iopub.status.idle": "2024-03-28T21:59:24.382496Z",
     "shell.execute_reply": "2024-03-28T21:59:24.381349Z"
    },
    "papermill": {
     "duration": 0.041455,
     "end_time": "2024-03-28T21:59:24.385124",
     "exception": false,
     "start_time": "2024-03-28T21:59:24.343669",
     "status": "completed"
    },
    "tags": []
   },
   "outputs": [
    {
     "data": {
      "text/html": [
       "<div>\n",
       "<style scoped>\n",
       "    .dataframe tbody tr th:only-of-type {\n",
       "        vertical-align: middle;\n",
       "    }\n",
       "\n",
       "    .dataframe tbody tr th {\n",
       "        vertical-align: top;\n",
       "    }\n",
       "\n",
       "    .dataframe thead th {\n",
       "        text-align: right;\n",
       "    }\n",
       "</style>\n",
       "<table border=\"1\" class=\"dataframe\">\n",
       "  <thead>\n",
       "    <tr style=\"text-align: right;\">\n",
       "      <th></th>\n",
       "      <th>Age</th>\n",
       "      <th>Gender</th>\n",
       "      <th>Marital Status</th>\n",
       "      <th>Occupation</th>\n",
       "      <th>Monthly Income</th>\n",
       "      <th>Educational Qualifications</th>\n",
       "      <th>Family size</th>\n",
       "      <th>latitude</th>\n",
       "      <th>longitude</th>\n",
       "      <th>Pin code</th>\n",
       "      <th>Output</th>\n",
       "      <th>Feedback</th>\n",
       "      <th>Unnamed: 12</th>\n",
       "    </tr>\n",
       "  </thead>\n",
       "  <tbody>\n",
       "    <tr>\n",
       "      <th>0</th>\n",
       "      <td>20</td>\n",
       "      <td>Female</td>\n",
       "      <td>Single</td>\n",
       "      <td>Student</td>\n",
       "      <td>No Income</td>\n",
       "      <td>Post Graduate</td>\n",
       "      <td>4</td>\n",
       "      <td>12.9766</td>\n",
       "      <td>77.5993</td>\n",
       "      <td>560001</td>\n",
       "      <td>Yes</td>\n",
       "      <td>Positive</td>\n",
       "      <td>Yes</td>\n",
       "    </tr>\n",
       "    <tr>\n",
       "      <th>1</th>\n",
       "      <td>24</td>\n",
       "      <td>Female</td>\n",
       "      <td>Single</td>\n",
       "      <td>Student</td>\n",
       "      <td>Below Rs.10000</td>\n",
       "      <td>Graduate</td>\n",
       "      <td>3</td>\n",
       "      <td>12.9770</td>\n",
       "      <td>77.5773</td>\n",
       "      <td>560009</td>\n",
       "      <td>Yes</td>\n",
       "      <td>Positive</td>\n",
       "      <td>Yes</td>\n",
       "    </tr>\n",
       "    <tr>\n",
       "      <th>2</th>\n",
       "      <td>22</td>\n",
       "      <td>Male</td>\n",
       "      <td>Single</td>\n",
       "      <td>Student</td>\n",
       "      <td>Below Rs.10000</td>\n",
       "      <td>Post Graduate</td>\n",
       "      <td>3</td>\n",
       "      <td>12.9551</td>\n",
       "      <td>77.6593</td>\n",
       "      <td>560017</td>\n",
       "      <td>Yes</td>\n",
       "      <td>Negative</td>\n",
       "      <td>Yes</td>\n",
       "    </tr>\n",
       "    <tr>\n",
       "      <th>3</th>\n",
       "      <td>22</td>\n",
       "      <td>Female</td>\n",
       "      <td>Single</td>\n",
       "      <td>Student</td>\n",
       "      <td>No Income</td>\n",
       "      <td>Graduate</td>\n",
       "      <td>6</td>\n",
       "      <td>12.9473</td>\n",
       "      <td>77.5616</td>\n",
       "      <td>560019</td>\n",
       "      <td>Yes</td>\n",
       "      <td>Positive</td>\n",
       "      <td>Yes</td>\n",
       "    </tr>\n",
       "    <tr>\n",
       "      <th>4</th>\n",
       "      <td>22</td>\n",
       "      <td>Male</td>\n",
       "      <td>Single</td>\n",
       "      <td>Student</td>\n",
       "      <td>Below Rs.10000</td>\n",
       "      <td>Post Graduate</td>\n",
       "      <td>4</td>\n",
       "      <td>12.9850</td>\n",
       "      <td>77.5533</td>\n",
       "      <td>560010</td>\n",
       "      <td>Yes</td>\n",
       "      <td>Positive</td>\n",
       "      <td>Yes</td>\n",
       "    </tr>\n",
       "  </tbody>\n",
       "</table>\n",
       "</div>"
      ],
      "text/plain": [
       "   Age  Gender Marital Status Occupation  Monthly Income  \\\n",
       "0   20  Female         Single    Student       No Income   \n",
       "1   24  Female         Single    Student  Below Rs.10000   \n",
       "2   22    Male         Single    Student  Below Rs.10000   \n",
       "3   22  Female         Single    Student       No Income   \n",
       "4   22    Male         Single    Student  Below Rs.10000   \n",
       "\n",
       "  Educational Qualifications  Family size  latitude  longitude  Pin code  \\\n",
       "0              Post Graduate            4   12.9766    77.5993    560001   \n",
       "1                   Graduate            3   12.9770    77.5773    560009   \n",
       "2              Post Graduate            3   12.9551    77.6593    560017   \n",
       "3                   Graduate            6   12.9473    77.5616    560019   \n",
       "4              Post Graduate            4   12.9850    77.5533    560010   \n",
       "\n",
       "  Output   Feedback Unnamed: 12  \n",
       "0    Yes   Positive         Yes  \n",
       "1    Yes   Positive         Yes  \n",
       "2    Yes  Negative          Yes  \n",
       "3    Yes   Positive         Yes  \n",
       "4    Yes   Positive         Yes  "
      ]
     },
     "execution_count": 8,
     "metadata": {},
     "output_type": "execute_result"
    }
   ],
   "source": [
    "#Head\n",
    "data.head()"
   ]
  },
  {
   "cell_type": "code",
   "execution_count": 9,
   "id": "f833fe98",
   "metadata": {
    "execution": {
     "iopub.execute_input": "2024-03-28T21:59:24.416445Z",
     "iopub.status.busy": "2024-03-28T21:59:24.416021Z",
     "iopub.status.idle": "2024-03-28T21:59:24.439365Z",
     "shell.execute_reply": "2024-03-28T21:59:24.438131Z"
    },
    "papermill": {
     "duration": 0.041916,
     "end_time": "2024-03-28T21:59:24.441989",
     "exception": false,
     "start_time": "2024-03-28T21:59:24.400073",
     "status": "completed"
    },
    "tags": []
   },
   "outputs": [
    {
     "data": {
      "text/html": [
       "<div>\n",
       "<style scoped>\n",
       "    .dataframe tbody tr th:only-of-type {\n",
       "        vertical-align: middle;\n",
       "    }\n",
       "\n",
       "    .dataframe tbody tr th {\n",
       "        vertical-align: top;\n",
       "    }\n",
       "\n",
       "    .dataframe thead th {\n",
       "        text-align: right;\n",
       "    }\n",
       "</style>\n",
       "<table border=\"1\" class=\"dataframe\">\n",
       "  <thead>\n",
       "    <tr style=\"text-align: right;\">\n",
       "      <th></th>\n",
       "      <th>Age</th>\n",
       "      <th>Gender</th>\n",
       "      <th>Marital Status</th>\n",
       "      <th>Occupation</th>\n",
       "      <th>Monthly Income</th>\n",
       "      <th>Educational Qualifications</th>\n",
       "      <th>Family size</th>\n",
       "      <th>latitude</th>\n",
       "      <th>longitude</th>\n",
       "      <th>Pin code</th>\n",
       "      <th>Output</th>\n",
       "      <th>Feedback</th>\n",
       "      <th>Unnamed: 12</th>\n",
       "    </tr>\n",
       "  </thead>\n",
       "  <tbody>\n",
       "    <tr>\n",
       "      <th>108</th>\n",
       "      <td>25</td>\n",
       "      <td>Male</td>\n",
       "      <td>Single</td>\n",
       "      <td>Employee</td>\n",
       "      <td>Below Rs.10000</td>\n",
       "      <td>Graduate</td>\n",
       "      <td>2</td>\n",
       "      <td>12.9698</td>\n",
       "      <td>77.7500</td>\n",
       "      <td>560066</td>\n",
       "      <td>No</td>\n",
       "      <td>Positive</td>\n",
       "      <td>No</td>\n",
       "    </tr>\n",
       "    <tr>\n",
       "      <th>117</th>\n",
       "      <td>24</td>\n",
       "      <td>Male</td>\n",
       "      <td>Prefer not to say</td>\n",
       "      <td>Self Employeed</td>\n",
       "      <td>More than 50000</td>\n",
       "      <td>Ph.D</td>\n",
       "      <td>2</td>\n",
       "      <td>13.0138</td>\n",
       "      <td>77.5877</td>\n",
       "      <td>560006</td>\n",
       "      <td>No</td>\n",
       "      <td>Positive</td>\n",
       "      <td>No</td>\n",
       "    </tr>\n",
       "    <tr>\n",
       "      <th>140</th>\n",
       "      <td>23</td>\n",
       "      <td>Male</td>\n",
       "      <td>Single</td>\n",
       "      <td>Student</td>\n",
       "      <td>No Income</td>\n",
       "      <td>Post Graduate</td>\n",
       "      <td>3</td>\n",
       "      <td>13.1020</td>\n",
       "      <td>77.5864</td>\n",
       "      <td>560064</td>\n",
       "      <td>No</td>\n",
       "      <td>Positive</td>\n",
       "      <td>No</td>\n",
       "    </tr>\n",
       "    <tr>\n",
       "      <th>342</th>\n",
       "      <td>22</td>\n",
       "      <td>Male</td>\n",
       "      <td>Married</td>\n",
       "      <td>Self Employeed</td>\n",
       "      <td>10001 to 25000</td>\n",
       "      <td>School</td>\n",
       "      <td>3</td>\n",
       "      <td>12.9820</td>\n",
       "      <td>77.6256</td>\n",
       "      <td>560008</td>\n",
       "      <td>Yes</td>\n",
       "      <td>Negative</td>\n",
       "      <td>Yes</td>\n",
       "    </tr>\n",
       "    <tr>\n",
       "      <th>289</th>\n",
       "      <td>20</td>\n",
       "      <td>Female</td>\n",
       "      <td>Single</td>\n",
       "      <td>Student</td>\n",
       "      <td>No Income</td>\n",
       "      <td>Graduate</td>\n",
       "      <td>2</td>\n",
       "      <td>13.0734</td>\n",
       "      <td>77.5464</td>\n",
       "      <td>560014</td>\n",
       "      <td>Yes</td>\n",
       "      <td>Positive</td>\n",
       "      <td>Yes</td>\n",
       "    </tr>\n",
       "  </tbody>\n",
       "</table>\n",
       "</div>"
      ],
      "text/plain": [
       "     Age  Gender     Marital Status      Occupation   Monthly Income  \\\n",
       "108   25    Male             Single        Employee   Below Rs.10000   \n",
       "117   24    Male  Prefer not to say  Self Employeed  More than 50000   \n",
       "140   23    Male             Single         Student        No Income   \n",
       "342   22    Male            Married  Self Employeed   10001 to 25000   \n",
       "289   20  Female             Single         Student        No Income   \n",
       "\n",
       "    Educational Qualifications  Family size  latitude  longitude  Pin code  \\\n",
       "108                   Graduate            2   12.9698    77.7500    560066   \n",
       "117                       Ph.D            2   13.0138    77.5877    560006   \n",
       "140              Post Graduate            3   13.1020    77.5864    560064   \n",
       "342                     School            3   12.9820    77.6256    560008   \n",
       "289                   Graduate            2   13.0734    77.5464    560014   \n",
       "\n",
       "    Output   Feedback Unnamed: 12  \n",
       "108     No   Positive          No  \n",
       "117     No   Positive          No  \n",
       "140     No   Positive          No  \n",
       "342    Yes  Negative          Yes  \n",
       "289    Yes   Positive         Yes  "
      ]
     },
     "execution_count": 9,
     "metadata": {},
     "output_type": "execute_result"
    }
   ],
   "source": [
    "#Sample\n",
    "data.sample(5)"
   ]
  },
  {
   "cell_type": "code",
   "execution_count": 10,
   "id": "22876965",
   "metadata": {
    "execution": {
     "iopub.execute_input": "2024-03-28T21:59:24.474667Z",
     "iopub.status.busy": "2024-03-28T21:59:24.474247Z",
     "iopub.status.idle": "2024-03-28T21:59:24.481227Z",
     "shell.execute_reply": "2024-03-28T21:59:24.480062Z"
    },
    "papermill": {
     "duration": 0.026333,
     "end_time": "2024-03-28T21:59:24.483952",
     "exception": false,
     "start_time": "2024-03-28T21:59:24.457619",
     "status": "completed"
    },
    "tags": []
   },
   "outputs": [
    {
     "name": "stdout",
     "output_type": "stream",
     "text": [
      "There are total 5 numerical columns in dataset\n",
      "['Age', 'Family size', 'latitude', 'longitude', 'Pin code']\n"
     ]
    }
   ],
   "source": [
    "#Finding Numerical Columns\n",
    "num_col=[]\n",
    "for col in data.columns:\n",
    "    if(data[col].dtypes!='object'):\n",
    "        num_col.append(col)\n",
    "print(f\"There are total {len(num_col)} numerical columns in dataset\")\n",
    "print(num_col)"
   ]
  },
  {
   "cell_type": "code",
   "execution_count": 11,
   "id": "fa0d52e4",
   "metadata": {
    "execution": {
     "iopub.execute_input": "2024-03-28T21:59:24.517124Z",
     "iopub.status.busy": "2024-03-28T21:59:24.516699Z",
     "iopub.status.idle": "2024-03-28T21:59:24.531346Z",
     "shell.execute_reply": "2024-03-28T21:59:24.530229Z"
    },
    "papermill": {
     "duration": 0.033752,
     "end_time": "2024-03-28T21:59:24.533582",
     "exception": false,
     "start_time": "2024-03-28T21:59:24.499830",
     "status": "completed"
    },
    "tags": []
   },
   "outputs": [
    {
     "data": {
      "text/html": [
       "<div>\n",
       "<style scoped>\n",
       "    .dataframe tbody tr th:only-of-type {\n",
       "        vertical-align: middle;\n",
       "    }\n",
       "\n",
       "    .dataframe tbody tr th {\n",
       "        vertical-align: top;\n",
       "    }\n",
       "\n",
       "    .dataframe thead th {\n",
       "        text-align: right;\n",
       "    }\n",
       "</style>\n",
       "<table border=\"1\" class=\"dataframe\">\n",
       "  <thead>\n",
       "    <tr style=\"text-align: right;\">\n",
       "      <th></th>\n",
       "      <th>Age</th>\n",
       "      <th>Family size</th>\n",
       "      <th>latitude</th>\n",
       "      <th>longitude</th>\n",
       "      <th>Pin code</th>\n",
       "    </tr>\n",
       "  </thead>\n",
       "  <tbody>\n",
       "    <tr>\n",
       "      <th>204</th>\n",
       "      <td>25</td>\n",
       "      <td>3</td>\n",
       "      <td>12.9048</td>\n",
       "      <td>77.6821</td>\n",
       "      <td>560036</td>\n",
       "    </tr>\n",
       "    <tr>\n",
       "      <th>236</th>\n",
       "      <td>22</td>\n",
       "      <td>3</td>\n",
       "      <td>13.0158</td>\n",
       "      <td>77.5390</td>\n",
       "      <td>560096</td>\n",
       "    </tr>\n",
       "    <tr>\n",
       "      <th>13</th>\n",
       "      <td>21</td>\n",
       "      <td>4</td>\n",
       "      <td>12.9770</td>\n",
       "      <td>77.5773</td>\n",
       "      <td>560009</td>\n",
       "    </tr>\n",
       "    <tr>\n",
       "      <th>34</th>\n",
       "      <td>22</td>\n",
       "      <td>2</td>\n",
       "      <td>12.9119</td>\n",
       "      <td>77.6446</td>\n",
       "      <td>560102</td>\n",
       "    </tr>\n",
       "    <tr>\n",
       "      <th>221</th>\n",
       "      <td>23</td>\n",
       "      <td>2</td>\n",
       "      <td>12.9105</td>\n",
       "      <td>77.4842</td>\n",
       "      <td>560060</td>\n",
       "    </tr>\n",
       "  </tbody>\n",
       "</table>\n",
       "</div>"
      ],
      "text/plain": [
       "     Age  Family size  latitude  longitude  Pin code\n",
       "204   25            3   12.9048    77.6821    560036\n",
       "236   22            3   13.0158    77.5390    560096\n",
       "13    21            4   12.9770    77.5773    560009\n",
       "34    22            2   12.9119    77.6446    560102\n",
       "221   23            2   12.9105    77.4842    560060"
      ]
     },
     "execution_count": 11,
     "metadata": {},
     "output_type": "execute_result"
    }
   ],
   "source": [
    "#Sample\n",
    "data[num_col].sample(5)"
   ]
  },
  {
   "cell_type": "code",
   "execution_count": 12,
   "id": "4c72787f",
   "metadata": {
    "execution": {
     "iopub.execute_input": "2024-03-28T21:59:24.565370Z",
     "iopub.status.busy": "2024-03-28T21:59:24.564973Z",
     "iopub.status.idle": "2024-03-28T21:59:24.571592Z",
     "shell.execute_reply": "2024-03-28T21:59:24.570416Z"
    },
    "papermill": {
     "duration": 0.026021,
     "end_time": "2024-03-28T21:59:24.574670",
     "exception": false,
     "start_time": "2024-03-28T21:59:24.548649",
     "status": "completed"
    },
    "tags": []
   },
   "outputs": [
    {
     "name": "stdout",
     "output_type": "stream",
     "text": [
      "There are total 8 categorical columns in dataset\n",
      "['Gender', 'Marital Status', 'Occupation', 'Monthly Income', 'Educational Qualifications', 'Output', 'Feedback', 'Unnamed: 12']\n"
     ]
    }
   ],
   "source": [
    "#Finding Categorical Columns\n",
    "cat_col=[]\n",
    "for col in data.columns:\n",
    "    if(data[col].dtypes=='object'):\n",
    "        cat_col.append(col)\n",
    "print(f\"There are total {len(cat_col)} categorical columns in dataset\")\n",
    "print(cat_col)"
   ]
  },
  {
   "cell_type": "code",
   "execution_count": 13,
   "id": "7f6937ac",
   "metadata": {
    "execution": {
     "iopub.execute_input": "2024-03-28T21:59:24.607072Z",
     "iopub.status.busy": "2024-03-28T21:59:24.606701Z",
     "iopub.status.idle": "2024-03-28T21:59:24.624947Z",
     "shell.execute_reply": "2024-03-28T21:59:24.623799Z"
    },
    "papermill": {
     "duration": 0.037348,
     "end_time": "2024-03-28T21:59:24.627346",
     "exception": false,
     "start_time": "2024-03-28T21:59:24.589998",
     "status": "completed"
    },
    "tags": []
   },
   "outputs": [
    {
     "data": {
      "text/html": [
       "<div>\n",
       "<style scoped>\n",
       "    .dataframe tbody tr th:only-of-type {\n",
       "        vertical-align: middle;\n",
       "    }\n",
       "\n",
       "    .dataframe tbody tr th {\n",
       "        vertical-align: top;\n",
       "    }\n",
       "\n",
       "    .dataframe thead th {\n",
       "        text-align: right;\n",
       "    }\n",
       "</style>\n",
       "<table border=\"1\" class=\"dataframe\">\n",
       "  <thead>\n",
       "    <tr style=\"text-align: right;\">\n",
       "      <th></th>\n",
       "      <th>Gender</th>\n",
       "      <th>Marital Status</th>\n",
       "      <th>Occupation</th>\n",
       "      <th>Monthly Income</th>\n",
       "      <th>Educational Qualifications</th>\n",
       "      <th>Output</th>\n",
       "      <th>Feedback</th>\n",
       "      <th>Unnamed: 12</th>\n",
       "    </tr>\n",
       "  </thead>\n",
       "  <tbody>\n",
       "    <tr>\n",
       "      <th>138</th>\n",
       "      <td>Female</td>\n",
       "      <td>Single</td>\n",
       "      <td>Employee</td>\n",
       "      <td>More than 50000</td>\n",
       "      <td>Graduate</td>\n",
       "      <td>Yes</td>\n",
       "      <td>Positive</td>\n",
       "      <td>Yes</td>\n",
       "    </tr>\n",
       "    <tr>\n",
       "      <th>253</th>\n",
       "      <td>Male</td>\n",
       "      <td>Single</td>\n",
       "      <td>Employee</td>\n",
       "      <td>10001 to 25000</td>\n",
       "      <td>Graduate</td>\n",
       "      <td>Yes</td>\n",
       "      <td>Positive</td>\n",
       "      <td>Yes</td>\n",
       "    </tr>\n",
       "    <tr>\n",
       "      <th>299</th>\n",
       "      <td>Female</td>\n",
       "      <td>Single</td>\n",
       "      <td>Employee</td>\n",
       "      <td>More than 50000</td>\n",
       "      <td>Post Graduate</td>\n",
       "      <td>No</td>\n",
       "      <td>Negative</td>\n",
       "      <td>No</td>\n",
       "    </tr>\n",
       "    <tr>\n",
       "      <th>9</th>\n",
       "      <td>Female</td>\n",
       "      <td>Single</td>\n",
       "      <td>Student</td>\n",
       "      <td>No Income</td>\n",
       "      <td>Post Graduate</td>\n",
       "      <td>Yes</td>\n",
       "      <td>Positive</td>\n",
       "      <td>Yes</td>\n",
       "    </tr>\n",
       "    <tr>\n",
       "      <th>150</th>\n",
       "      <td>Male</td>\n",
       "      <td>Single</td>\n",
       "      <td>Student</td>\n",
       "      <td>More than 50000</td>\n",
       "      <td>Post Graduate</td>\n",
       "      <td>Yes</td>\n",
       "      <td>Positive</td>\n",
       "      <td>Yes</td>\n",
       "    </tr>\n",
       "  </tbody>\n",
       "</table>\n",
       "</div>"
      ],
      "text/plain": [
       "     Gender Marital Status Occupation   Monthly Income  \\\n",
       "138  Female         Single   Employee  More than 50000   \n",
       "253    Male         Single   Employee   10001 to 25000   \n",
       "299  Female         Single   Employee  More than 50000   \n",
       "9    Female         Single    Student        No Income   \n",
       "150    Male         Single    Student  More than 50000   \n",
       "\n",
       "    Educational Qualifications Output   Feedback Unnamed: 12  \n",
       "138                   Graduate    Yes   Positive         Yes  \n",
       "253                   Graduate    Yes   Positive         Yes  \n",
       "299              Post Graduate     No  Negative           No  \n",
       "9                Post Graduate    Yes   Positive         Yes  \n",
       "150              Post Graduate    Yes   Positive         Yes  "
      ]
     },
     "execution_count": 13,
     "metadata": {},
     "output_type": "execute_result"
    }
   ],
   "source": [
    "#Sample\n",
    "data[cat_col].sample(5)"
   ]
  },
  {
   "cell_type": "markdown",
   "id": "34939907",
   "metadata": {
    "papermill": {
     "duration": 0.015037,
     "end_time": "2024-03-28T21:59:24.657798",
     "exception": false,
     "start_time": "2024-03-28T21:59:24.642761",
     "status": "completed"
    },
    "tags": []
   },
   "source": [
    "> # Data Cleaning & Preprocessing"
   ]
  },
  {
   "cell_type": "code",
   "execution_count": 14,
   "id": "1de08a15",
   "metadata": {
    "execution": {
     "iopub.execute_input": "2024-03-28T21:59:24.689784Z",
     "iopub.status.busy": "2024-03-28T21:59:24.689304Z",
     "iopub.status.idle": "2024-03-28T21:59:24.695967Z",
     "shell.execute_reply": "2024-03-28T21:59:24.694775Z"
    },
    "papermill": {
     "duration": 0.0253,
     "end_time": "2024-03-28T21:59:24.698321",
     "exception": false,
     "start_time": "2024-03-28T21:59:24.673021",
     "status": "completed"
    },
    "tags": []
   },
   "outputs": [],
   "source": [
    "#Removing Unuseful Features\n",
    "data.drop(columns={'Unnamed: 12'},inplace=True)"
   ]
  },
  {
   "cell_type": "code",
   "execution_count": 15,
   "id": "3a2c61ac",
   "metadata": {
    "execution": {
     "iopub.execute_input": "2024-03-28T21:59:24.731227Z",
     "iopub.status.busy": "2024-03-28T21:59:24.730552Z",
     "iopub.status.idle": "2024-03-28T21:59:24.734607Z",
     "shell.execute_reply": "2024-03-28T21:59:24.733739Z"
    },
    "papermill": {
     "duration": 0.022785,
     "end_time": "2024-03-28T21:59:24.737011",
     "exception": false,
     "start_time": "2024-03-28T21:59:24.714226",
     "status": "completed"
    },
    "tags": []
   },
   "outputs": [],
   "source": [
    "cat_col.remove('Unnamed: 12')"
   ]
  },
  {
   "cell_type": "code",
   "execution_count": 16,
   "id": "c49da940",
   "metadata": {
    "execution": {
     "iopub.execute_input": "2024-03-28T21:59:24.769855Z",
     "iopub.status.busy": "2024-03-28T21:59:24.769456Z",
     "iopub.status.idle": "2024-03-28T21:59:24.779672Z",
     "shell.execute_reply": "2024-03-28T21:59:24.778466Z"
    },
    "papermill": {
     "duration": 0.029296,
     "end_time": "2024-03-28T21:59:24.781835",
     "exception": false,
     "start_time": "2024-03-28T21:59:24.752539",
     "status": "completed"
    },
    "tags": []
   },
   "outputs": [
    {
     "data": {
      "text/plain": [
       "Age                           0.0\n",
       "Gender                        0.0\n",
       "Marital Status                0.0\n",
       "Occupation                    0.0\n",
       "Monthly Income                0.0\n",
       "Educational Qualifications    0.0\n",
       "Family size                   0.0\n",
       "latitude                      0.0\n",
       "longitude                     0.0\n",
       "Pin code                      0.0\n",
       "Output                        0.0\n",
       "Feedback                      0.0\n",
       "dtype: float64"
      ]
     },
     "execution_count": 16,
     "metadata": {},
     "output_type": "execute_result"
    }
   ],
   "source": [
    "#Finding Null Values\n",
    "data.isnull().mean()*100"
   ]
  },
  {
   "cell_type": "code",
   "execution_count": 17,
   "id": "ef28a24f",
   "metadata": {
    "execution": {
     "iopub.execute_input": "2024-03-28T21:59:24.814855Z",
     "iopub.status.busy": "2024-03-28T21:59:24.814489Z",
     "iopub.status.idle": "2024-03-28T21:59:24.823647Z",
     "shell.execute_reply": "2024-03-28T21:59:24.822524Z"
    },
    "papermill": {
     "duration": 0.028373,
     "end_time": "2024-03-28T21:59:24.825962",
     "exception": false,
     "start_time": "2024-03-28T21:59:24.797589",
     "status": "completed"
    },
    "tags": []
   },
   "outputs": [
    {
     "data": {
      "text/plain": [
       "103"
      ]
     },
     "execution_count": 17,
     "metadata": {},
     "output_type": "execute_result"
    }
   ],
   "source": [
    "#Finding Duplicates\n",
    "data.duplicated().sum()"
   ]
  },
  {
   "cell_type": "code",
   "execution_count": 18,
   "id": "5c833e33",
   "metadata": {
    "execution": {
     "iopub.execute_input": "2024-03-28T21:59:24.858890Z",
     "iopub.status.busy": "2024-03-28T21:59:24.858507Z",
     "iopub.status.idle": "2024-03-28T21:59:24.865711Z",
     "shell.execute_reply": "2024-03-28T21:59:24.864654Z"
    },
    "papermill": {
     "duration": 0.026826,
     "end_time": "2024-03-28T21:59:24.868257",
     "exception": false,
     "start_time": "2024-03-28T21:59:24.841431",
     "status": "completed"
    },
    "tags": []
   },
   "outputs": [],
   "source": [
    "#Removing Duplicates\n",
    "data.drop_duplicates(inplace=True)"
   ]
  },
  {
   "cell_type": "markdown",
   "id": "390521b8",
   "metadata": {
    "papermill": {
     "duration": 0.015803,
     "end_time": "2024-03-28T21:59:24.900305",
     "exception": false,
     "start_time": "2024-03-28T21:59:24.884502",
     "status": "completed"
    },
    "tags": []
   },
   "source": [
    "> # Feature Engineering"
   ]
  },
  {
   "cell_type": "code",
   "execution_count": 19,
   "id": "4358ddf9",
   "metadata": {
    "execution": {
     "iopub.execute_input": "2024-03-28T21:59:24.934827Z",
     "iopub.status.busy": "2024-03-28T21:59:24.934431Z",
     "iopub.status.idle": "2024-03-28T21:59:26.218759Z",
     "shell.execute_reply": "2024-03-28T21:59:26.217370Z"
    },
    "papermill": {
     "duration": 1.30482,
     "end_time": "2024-03-28T21:59:26.221496",
     "exception": false,
     "start_time": "2024-03-28T21:59:24.916676",
     "status": "completed"
    },
    "tags": []
   },
   "outputs": [
    {
     "name": "stdout",
     "output_type": "stream",
     "text": [
      "\n",
      "#Gender\n",
      "Gender_encoder=LabelEncoder()\n",
      "data[Gender]=Gender_encoder.fit_transform(data['Gender'])\n",
      "\n",
      "#Marital Status\n",
      "Marital Status_encoder=LabelEncoder()\n",
      "data[Marital Status]=Marital Status_encoder.fit_transform(data['Marital Status'])\n",
      "\n",
      "#Occupation\n",
      "Occupation_encoder=LabelEncoder()\n",
      "data[Occupation]=Occupation_encoder.fit_transform(data['Occupation'])\n",
      "\n",
      "#Monthly Income\n",
      "Monthly Income_encoder=LabelEncoder()\n",
      "data[Monthly Income]=Monthly Income_encoder.fit_transform(data['Monthly Income'])\n",
      "\n",
      "#Educational Qualifications\n",
      "Educational Qualifications_encoder=LabelEncoder()\n",
      "data[Educational Qualifications]=Educational Qualifications_encoder.fit_transform(data['Educational Qualifications'])\n",
      "\n",
      "#Output\n",
      "Output_encoder=LabelEncoder()\n",
      "data[Output]=Output_encoder.fit_transform(data['Output'])\n",
      "\n",
      "#Feedback\n",
      "Feedback_encoder=LabelEncoder()\n",
      "data[Feedback]=Feedback_encoder.fit_transform(data['Feedback'])\n"
     ]
    }
   ],
   "source": [
    "#Feature Encoding\n",
    "from sklearn.preprocessing import LabelEncoder\n",
    "for col in cat_col:\n",
    "    print()\n",
    "    print(f\"#{col}\")\n",
    "    print(f\"{col}_encoder=LabelEncoder()\")\n",
    "    print(f\"data[{col}]={col}_encoder.fit_transform(data['{col}'])\")"
   ]
  },
  {
   "cell_type": "code",
   "execution_count": 20,
   "id": "9cfb898b",
   "metadata": {
    "execution": {
     "iopub.execute_input": "2024-03-28T21:59:26.254628Z",
     "iopub.status.busy": "2024-03-28T21:59:26.254225Z",
     "iopub.status.idle": "2024-03-28T21:59:26.268198Z",
     "shell.execute_reply": "2024-03-28T21:59:26.267412Z"
    },
    "papermill": {
     "duration": 0.03307,
     "end_time": "2024-03-28T21:59:26.270303",
     "exception": false,
     "start_time": "2024-03-28T21:59:26.237233",
     "status": "completed"
    },
    "tags": []
   },
   "outputs": [
    {
     "data": {
      "text/html": [
       "<div>\n",
       "<style scoped>\n",
       "    .dataframe tbody tr th:only-of-type {\n",
       "        vertical-align: middle;\n",
       "    }\n",
       "\n",
       "    .dataframe tbody tr th {\n",
       "        vertical-align: top;\n",
       "    }\n",
       "\n",
       "    .dataframe thead th {\n",
       "        text-align: right;\n",
       "    }\n",
       "</style>\n",
       "<table border=\"1\" class=\"dataframe\">\n",
       "  <thead>\n",
       "    <tr style=\"text-align: right;\">\n",
       "      <th></th>\n",
       "      <th>Gender</th>\n",
       "      <th>Marital Status</th>\n",
       "      <th>Occupation</th>\n",
       "      <th>Monthly Income</th>\n",
       "      <th>Educational Qualifications</th>\n",
       "      <th>Output</th>\n",
       "      <th>Feedback</th>\n",
       "    </tr>\n",
       "  </thead>\n",
       "  <tbody>\n",
       "    <tr>\n",
       "      <th>177</th>\n",
       "      <td>Male</td>\n",
       "      <td>Married</td>\n",
       "      <td>Self Employeed</td>\n",
       "      <td>More than 50000</td>\n",
       "      <td>Post Graduate</td>\n",
       "      <td>No</td>\n",
       "      <td>Negative</td>\n",
       "    </tr>\n",
       "    <tr>\n",
       "      <th>265</th>\n",
       "      <td>Female</td>\n",
       "      <td>Single</td>\n",
       "      <td>Employee</td>\n",
       "      <td>25001 to 50000</td>\n",
       "      <td>Graduate</td>\n",
       "      <td>Yes</td>\n",
       "      <td>Positive</td>\n",
       "    </tr>\n",
       "    <tr>\n",
       "      <th>75</th>\n",
       "      <td>Female</td>\n",
       "      <td>Single</td>\n",
       "      <td>Student</td>\n",
       "      <td>25001 to 50000</td>\n",
       "      <td>Post Graduate</td>\n",
       "      <td>Yes</td>\n",
       "      <td>Positive</td>\n",
       "    </tr>\n",
       "    <tr>\n",
       "      <th>22</th>\n",
       "      <td>Female</td>\n",
       "      <td>Single</td>\n",
       "      <td>Student</td>\n",
       "      <td>No Income</td>\n",
       "      <td>Graduate</td>\n",
       "      <td>Yes</td>\n",
       "      <td>Positive</td>\n",
       "    </tr>\n",
       "    <tr>\n",
       "      <th>386</th>\n",
       "      <td>Male</td>\n",
       "      <td>Single</td>\n",
       "      <td>Student</td>\n",
       "      <td>Below Rs.10000</td>\n",
       "      <td>Post Graduate</td>\n",
       "      <td>Yes</td>\n",
       "      <td>Positive</td>\n",
       "    </tr>\n",
       "  </tbody>\n",
       "</table>\n",
       "</div>"
      ],
      "text/plain": [
       "     Gender Marital Status      Occupation   Monthly Income  \\\n",
       "177    Male        Married  Self Employeed  More than 50000   \n",
       "265  Female         Single        Employee   25001 to 50000   \n",
       "75   Female         Single         Student   25001 to 50000   \n",
       "22   Female         Single         Student        No Income   \n",
       "386    Male         Single         Student   Below Rs.10000   \n",
       "\n",
       "    Educational Qualifications Output   Feedback  \n",
       "177              Post Graduate     No  Negative   \n",
       "265                   Graduate    Yes   Positive  \n",
       "75               Post Graduate    Yes   Positive  \n",
       "22                    Graduate    Yes   Positive  \n",
       "386              Post Graduate    Yes   Positive  "
      ]
     },
     "execution_count": 20,
     "metadata": {},
     "output_type": "execute_result"
    }
   ],
   "source": [
    "#Before Encoding\n",
    "data[cat_col].sample(5)"
   ]
  },
  {
   "cell_type": "code",
   "execution_count": 21,
   "id": "ae3902c6",
   "metadata": {
    "execution": {
     "iopub.execute_input": "2024-03-28T21:59:26.304753Z",
     "iopub.status.busy": "2024-03-28T21:59:26.303887Z",
     "iopub.status.idle": "2024-03-28T21:59:26.316769Z",
     "shell.execute_reply": "2024-03-28T21:59:26.315850Z"
    },
    "papermill": {
     "duration": 0.032675,
     "end_time": "2024-03-28T21:59:26.319152",
     "exception": false,
     "start_time": "2024-03-28T21:59:26.286477",
     "status": "completed"
    },
    "tags": []
   },
   "outputs": [],
   "source": [
    "#Gender\n",
    "Gender_encoder=LabelEncoder()\n",
    "data[\"Gender\"]=Gender_encoder.fit_transform(data['Gender'])\n",
    "\n",
    "#Marital Status\n",
    "Marital_Status_encoder=LabelEncoder()\n",
    "data[\"Marital Status\"]=Marital_Status_encoder.fit_transform(data['Marital Status'])\n",
    "\n",
    "#Occupation\n",
    "Occupation_encoder=LabelEncoder()\n",
    "data[\"Occupation\"]=Occupation_encoder.fit_transform(data['Occupation'])\n",
    "\n",
    "#Monthly Income\n",
    "Monthly_Income_encoder=LabelEncoder()\n",
    "data[\"Monthly Income\"]=Monthly_Income_encoder.fit_transform(data['Monthly Income'])\n",
    "\n",
    "#Educational Qualifications\n",
    "Educational_Qualifications_encoder=LabelEncoder()\n",
    "data[\"Educational Qualifications\"]=Educational_Qualifications_encoder.fit_transform(data['Educational Qualifications'])\n",
    "\n",
    "#Output\n",
    "Output_encoder=LabelEncoder()\n",
    "data[\"Output\"]=Output_encoder.fit_transform(data['Output'])\n",
    "\n",
    "#Feedback\n",
    "Feedback_encoder=LabelEncoder()\n",
    "data[\"Feedback\"]=Feedback_encoder.fit_transform(data['Feedback'])"
   ]
  },
  {
   "cell_type": "code",
   "execution_count": 22,
   "id": "5fb72db4",
   "metadata": {
    "execution": {
     "iopub.execute_input": "2024-03-28T21:59:26.412736Z",
     "iopub.status.busy": "2024-03-28T21:59:26.411862Z",
     "iopub.status.idle": "2024-03-28T21:59:26.425449Z",
     "shell.execute_reply": "2024-03-28T21:59:26.424665Z"
    },
    "papermill": {
     "duration": 0.092429,
     "end_time": "2024-03-28T21:59:26.427657",
     "exception": false,
     "start_time": "2024-03-28T21:59:26.335228",
     "status": "completed"
    },
    "tags": []
   },
   "outputs": [
    {
     "data": {
      "text/html": [
       "<div>\n",
       "<style scoped>\n",
       "    .dataframe tbody tr th:only-of-type {\n",
       "        vertical-align: middle;\n",
       "    }\n",
       "\n",
       "    .dataframe tbody tr th {\n",
       "        vertical-align: top;\n",
       "    }\n",
       "\n",
       "    .dataframe thead th {\n",
       "        text-align: right;\n",
       "    }\n",
       "</style>\n",
       "<table border=\"1\" class=\"dataframe\">\n",
       "  <thead>\n",
       "    <tr style=\"text-align: right;\">\n",
       "      <th></th>\n",
       "      <th>Gender</th>\n",
       "      <th>Marital Status</th>\n",
       "      <th>Occupation</th>\n",
       "      <th>Monthly Income</th>\n",
       "      <th>Educational Qualifications</th>\n",
       "      <th>Output</th>\n",
       "      <th>Feedback</th>\n",
       "    </tr>\n",
       "  </thead>\n",
       "  <tbody>\n",
       "    <tr>\n",
       "      <th>232</th>\n",
       "      <td>0</td>\n",
       "      <td>2</td>\n",
       "      <td>2</td>\n",
       "      <td>1</td>\n",
       "      <td>2</td>\n",
       "      <td>0</td>\n",
       "      <td>0</td>\n",
       "    </tr>\n",
       "    <tr>\n",
       "      <th>187</th>\n",
       "      <td>1</td>\n",
       "      <td>2</td>\n",
       "      <td>0</td>\n",
       "      <td>0</td>\n",
       "      <td>0</td>\n",
       "      <td>1</td>\n",
       "      <td>1</td>\n",
       "    </tr>\n",
       "    <tr>\n",
       "      <th>248</th>\n",
       "      <td>1</td>\n",
       "      <td>1</td>\n",
       "      <td>0</td>\n",
       "      <td>2</td>\n",
       "      <td>0</td>\n",
       "      <td>0</td>\n",
       "      <td>0</td>\n",
       "    </tr>\n",
       "    <tr>\n",
       "      <th>15</th>\n",
       "      <td>0</td>\n",
       "      <td>2</td>\n",
       "      <td>3</td>\n",
       "      <td>4</td>\n",
       "      <td>2</td>\n",
       "      <td>1</td>\n",
       "      <td>1</td>\n",
       "    </tr>\n",
       "    <tr>\n",
       "      <th>102</th>\n",
       "      <td>0</td>\n",
       "      <td>2</td>\n",
       "      <td>0</td>\n",
       "      <td>0</td>\n",
       "      <td>0</td>\n",
       "      <td>1</td>\n",
       "      <td>1</td>\n",
       "    </tr>\n",
       "  </tbody>\n",
       "</table>\n",
       "</div>"
      ],
      "text/plain": [
       "     Gender  Marital Status  Occupation  Monthly Income  \\\n",
       "232       0               2           2               1   \n",
       "187       1               2           0               0   \n",
       "248       1               1           0               2   \n",
       "15        0               2           3               4   \n",
       "102       0               2           0               0   \n",
       "\n",
       "     Educational Qualifications  Output  Feedback  \n",
       "232                           2       0         0  \n",
       "187                           0       1         1  \n",
       "248                           0       0         0  \n",
       "15                            2       1         1  \n",
       "102                           0       1         1  "
      ]
     },
     "execution_count": 22,
     "metadata": {},
     "output_type": "execute_result"
    }
   ],
   "source": [
    "#After Encoding\n",
    "data[cat_col].sample(5)"
   ]
  },
  {
   "cell_type": "code",
   "execution_count": 23,
   "id": "2e2ee60b",
   "metadata": {
    "execution": {
     "iopub.execute_input": "2024-03-28T21:59:26.462873Z",
     "iopub.status.busy": "2024-03-28T21:59:26.462147Z",
     "iopub.status.idle": "2024-03-28T21:59:26.476535Z",
     "shell.execute_reply": "2024-03-28T21:59:26.475315Z"
    },
    "papermill": {
     "duration": 0.034805,
     "end_time": "2024-03-28T21:59:26.479063",
     "exception": false,
     "start_time": "2024-03-28T21:59:26.444258",
     "status": "completed"
    },
    "tags": []
   },
   "outputs": [
    {
     "data": {
      "text/html": [
       "<div>\n",
       "<style scoped>\n",
       "    .dataframe tbody tr th:only-of-type {\n",
       "        vertical-align: middle;\n",
       "    }\n",
       "\n",
       "    .dataframe tbody tr th {\n",
       "        vertical-align: top;\n",
       "    }\n",
       "\n",
       "    .dataframe thead th {\n",
       "        text-align: right;\n",
       "    }\n",
       "</style>\n",
       "<table border=\"1\" class=\"dataframe\">\n",
       "  <thead>\n",
       "    <tr style=\"text-align: right;\">\n",
       "      <th></th>\n",
       "      <th>Age</th>\n",
       "      <th>Family size</th>\n",
       "      <th>latitude</th>\n",
       "      <th>longitude</th>\n",
       "      <th>Pin code</th>\n",
       "    </tr>\n",
       "  </thead>\n",
       "  <tbody>\n",
       "    <tr>\n",
       "      <th>175</th>\n",
       "      <td>23</td>\n",
       "      <td>6</td>\n",
       "      <td>12.9551</td>\n",
       "      <td>77.6593</td>\n",
       "      <td>560017</td>\n",
       "    </tr>\n",
       "    <tr>\n",
       "      <th>207</th>\n",
       "      <td>23</td>\n",
       "      <td>1</td>\n",
       "      <td>12.9770</td>\n",
       "      <td>77.5773</td>\n",
       "      <td>560009</td>\n",
       "    </tr>\n",
       "    <tr>\n",
       "      <th>74</th>\n",
       "      <td>26</td>\n",
       "      <td>4</td>\n",
       "      <td>13.0019</td>\n",
       "      <td>77.5713</td>\n",
       "      <td>560003</td>\n",
       "    </tr>\n",
       "    <tr>\n",
       "      <th>130</th>\n",
       "      <td>28</td>\n",
       "      <td>3</td>\n",
       "      <td>13.0019</td>\n",
       "      <td>77.5713</td>\n",
       "      <td>560003</td>\n",
       "    </tr>\n",
       "    <tr>\n",
       "      <th>187</th>\n",
       "      <td>25</td>\n",
       "      <td>2</td>\n",
       "      <td>12.9757</td>\n",
       "      <td>77.5586</td>\n",
       "      <td>560023</td>\n",
       "    </tr>\n",
       "  </tbody>\n",
       "</table>\n",
       "</div>"
      ],
      "text/plain": [
       "     Age  Family size  latitude  longitude  Pin code\n",
       "175   23            6   12.9551    77.6593    560017\n",
       "207   23            1   12.9770    77.5773    560009\n",
       "74    26            4   13.0019    77.5713    560003\n",
       "130   28            3   13.0019    77.5713    560003\n",
       "187   25            2   12.9757    77.5586    560023"
      ]
     },
     "execution_count": 23,
     "metadata": {},
     "output_type": "execute_result"
    }
   ],
   "source": [
    "#Before Scaling\n",
    "data[num_col].sample(5)"
   ]
  },
  {
   "cell_type": "code",
   "execution_count": 24,
   "id": "cba16146",
   "metadata": {
    "execution": {
     "iopub.execute_input": "2024-03-28T21:59:26.514804Z",
     "iopub.status.busy": "2024-03-28T21:59:26.514321Z",
     "iopub.status.idle": "2024-03-28T21:59:26.519664Z",
     "shell.execute_reply": "2024-03-28T21:59:26.518532Z"
    },
    "papermill": {
     "duration": 0.026046,
     "end_time": "2024-03-28T21:59:26.522009",
     "exception": false,
     "start_time": "2024-03-28T21:59:26.495963",
     "status": "completed"
    },
    "tags": []
   },
   "outputs": [],
   "source": [
    "#Feature Scaling\n",
    "from sklearn.preprocessing import StandardScaler\n",
    "scaler=StandardScaler()"
   ]
  },
  {
   "cell_type": "code",
   "execution_count": 25,
   "id": "22ef12a0",
   "metadata": {
    "execution": {
     "iopub.execute_input": "2024-03-28T21:59:26.557947Z",
     "iopub.status.busy": "2024-03-28T21:59:26.557003Z",
     "iopub.status.idle": "2024-03-28T21:59:26.563830Z",
     "shell.execute_reply": "2024-03-28T21:59:26.562948Z"
    },
    "papermill": {
     "duration": 0.027489,
     "end_time": "2024-03-28T21:59:26.566232",
     "exception": false,
     "start_time": "2024-03-28T21:59:26.538743",
     "status": "completed"
    },
    "tags": []
   },
   "outputs": [],
   "source": [
    "#Feature and Target\n",
    "Feature=data.drop(columns={'Output'})\n",
    "Target=data['Output']"
   ]
  },
  {
   "cell_type": "code",
   "execution_count": 26,
   "id": "a0affd8a",
   "metadata": {
    "execution": {
     "iopub.execute_input": "2024-03-28T21:59:26.602825Z",
     "iopub.status.busy": "2024-03-28T21:59:26.601839Z",
     "iopub.status.idle": "2024-03-28T21:59:26.616888Z",
     "shell.execute_reply": "2024-03-28T21:59:26.615954Z"
    },
    "papermill": {
     "duration": 0.035923,
     "end_time": "2024-03-28T21:59:26.619116",
     "exception": false,
     "start_time": "2024-03-28T21:59:26.583193",
     "status": "completed"
    },
    "tags": []
   },
   "outputs": [
    {
     "data": {
      "text/html": [
       "<div>\n",
       "<style scoped>\n",
       "    .dataframe tbody tr th:only-of-type {\n",
       "        vertical-align: middle;\n",
       "    }\n",
       "\n",
       "    .dataframe tbody tr th {\n",
       "        vertical-align: top;\n",
       "    }\n",
       "\n",
       "    .dataframe thead th {\n",
       "        text-align: right;\n",
       "    }\n",
       "</style>\n",
       "<table border=\"1\" class=\"dataframe\">\n",
       "  <thead>\n",
       "    <tr style=\"text-align: right;\">\n",
       "      <th></th>\n",
       "      <th>Age</th>\n",
       "      <th>Gender</th>\n",
       "      <th>Marital Status</th>\n",
       "      <th>Occupation</th>\n",
       "      <th>Monthly Income</th>\n",
       "      <th>Educational Qualifications</th>\n",
       "      <th>Family size</th>\n",
       "      <th>latitude</th>\n",
       "      <th>longitude</th>\n",
       "      <th>Pin code</th>\n",
       "      <th>Feedback</th>\n",
       "    </tr>\n",
       "  </thead>\n",
       "  <tbody>\n",
       "    <tr>\n",
       "      <th>215</th>\n",
       "      <td>32</td>\n",
       "      <td>1</td>\n",
       "      <td>0</td>\n",
       "      <td>2</td>\n",
       "      <td>0</td>\n",
       "      <td>3</td>\n",
       "      <td>3</td>\n",
       "      <td>12.9820</td>\n",
       "      <td>77.6256</td>\n",
       "      <td>560008</td>\n",
       "      <td>0</td>\n",
       "    </tr>\n",
       "    <tr>\n",
       "      <th>235</th>\n",
       "      <td>29</td>\n",
       "      <td>1</td>\n",
       "      <td>2</td>\n",
       "      <td>0</td>\n",
       "      <td>1</td>\n",
       "      <td>0</td>\n",
       "      <td>3</td>\n",
       "      <td>13.0641</td>\n",
       "      <td>77.5931</td>\n",
       "      <td>560092</td>\n",
       "      <td>0</td>\n",
       "    </tr>\n",
       "    <tr>\n",
       "      <th>241</th>\n",
       "      <td>22</td>\n",
       "      <td>0</td>\n",
       "      <td>2</td>\n",
       "      <td>3</td>\n",
       "      <td>4</td>\n",
       "      <td>0</td>\n",
       "      <td>2</td>\n",
       "      <td>12.9369</td>\n",
       "      <td>77.6407</td>\n",
       "      <td>560095</td>\n",
       "      <td>1</td>\n",
       "    </tr>\n",
       "    <tr>\n",
       "      <th>250</th>\n",
       "      <td>29</td>\n",
       "      <td>0</td>\n",
       "      <td>0</td>\n",
       "      <td>0</td>\n",
       "      <td>1</td>\n",
       "      <td>1</td>\n",
       "      <td>3</td>\n",
       "      <td>12.9847</td>\n",
       "      <td>77.5491</td>\n",
       "      <td>560100</td>\n",
       "      <td>1</td>\n",
       "    </tr>\n",
       "    <tr>\n",
       "      <th>214</th>\n",
       "      <td>24</td>\n",
       "      <td>0</td>\n",
       "      <td>2</td>\n",
       "      <td>0</td>\n",
       "      <td>0</td>\n",
       "      <td>2</td>\n",
       "      <td>4</td>\n",
       "      <td>12.9337</td>\n",
       "      <td>77.5900</td>\n",
       "      <td>560011</td>\n",
       "      <td>1</td>\n",
       "    </tr>\n",
       "  </tbody>\n",
       "</table>\n",
       "</div>"
      ],
      "text/plain": [
       "     Age  Gender  Marital Status  Occupation  Monthly Income  \\\n",
       "215   32       1               0           2               0   \n",
       "235   29       1               2           0               1   \n",
       "241   22       0               2           3               4   \n",
       "250   29       0               0           0               1   \n",
       "214   24       0               2           0               0   \n",
       "\n",
       "     Educational Qualifications  Family size  latitude  longitude  Pin code  \\\n",
       "215                           3            3   12.9820    77.6256    560008   \n",
       "235                           0            3   13.0641    77.5931    560092   \n",
       "241                           0            2   12.9369    77.6407    560095   \n",
       "250                           1            3   12.9847    77.5491    560100   \n",
       "214                           2            4   12.9337    77.5900    560011   \n",
       "\n",
       "     Feedback  \n",
       "215         0  \n",
       "235         0  \n",
       "241         1  \n",
       "250         1  \n",
       "214         1  "
      ]
     },
     "execution_count": 26,
     "metadata": {},
     "output_type": "execute_result"
    }
   ],
   "source": [
    "#Sample\n",
    "Feature.sample(5)"
   ]
  },
  {
   "cell_type": "code",
   "execution_count": 27,
   "id": "a4e1391c",
   "metadata": {
    "execution": {
     "iopub.execute_input": "2024-03-28T21:59:26.655599Z",
     "iopub.status.busy": "2024-03-28T21:59:26.654575Z",
     "iopub.status.idle": "2024-03-28T21:59:26.662860Z",
     "shell.execute_reply": "2024-03-28T21:59:26.661766Z"
    },
    "papermill": {
     "duration": 0.029054,
     "end_time": "2024-03-28T21:59:26.665272",
     "exception": false,
     "start_time": "2024-03-28T21:59:26.636218",
     "status": "completed"
    },
    "tags": []
   },
   "outputs": [
    {
     "data": {
      "text/plain": [
       "135    0\n",
       "255    1\n",
       "6      1\n",
       "202    1\n",
       "39     1\n",
       "Name: Output, dtype: int64"
      ]
     },
     "execution_count": 27,
     "metadata": {},
     "output_type": "execute_result"
    }
   ],
   "source": [
    "#Target Sample\n",
    "Target.sample(5)"
   ]
  },
  {
   "cell_type": "code",
   "execution_count": 28,
   "id": "2405a4de",
   "metadata": {
    "execution": {
     "iopub.execute_input": "2024-03-28T21:59:26.701705Z",
     "iopub.status.busy": "2024-03-28T21:59:26.701238Z",
     "iopub.status.idle": "2024-03-28T21:59:26.711205Z",
     "shell.execute_reply": "2024-03-28T21:59:26.710026Z"
    },
    "papermill": {
     "duration": 0.031072,
     "end_time": "2024-03-28T21:59:26.713680",
     "exception": false,
     "start_time": "2024-03-28T21:59:26.682608",
     "status": "completed"
    },
    "tags": []
   },
   "outputs": [
    {
     "data": {
      "text/plain": [
       "Output\n",
       "1    217\n",
       "0     68\n",
       "Name: count, dtype: int64"
      ]
     },
     "execution_count": 28,
     "metadata": {},
     "output_type": "execute_result"
    }
   ],
   "source": [
    "#Target Value Counts\n",
    "Target.value_counts()"
   ]
  },
  {
   "cell_type": "code",
   "execution_count": 29,
   "id": "971278e3",
   "metadata": {
    "execution": {
     "iopub.execute_input": "2024-03-28T21:59:26.750825Z",
     "iopub.status.busy": "2024-03-28T21:59:26.750121Z",
     "iopub.status.idle": "2024-03-28T21:59:26.855885Z",
     "shell.execute_reply": "2024-03-28T21:59:26.854905Z"
    },
    "papermill": {
     "duration": 0.127289,
     "end_time": "2024-03-28T21:59:26.858578",
     "exception": false,
     "start_time": "2024-03-28T21:59:26.731289",
     "status": "completed"
    },
    "tags": []
   },
   "outputs": [],
   "source": [
    "#Train Test Split\n",
    "from sklearn.model_selection import train_test_split as tts\n",
    "f_train,f_test,t_train,t_test=tts(Feature,Target,test_size=0.4)"
   ]
  },
  {
   "cell_type": "markdown",
   "id": "590b130a",
   "metadata": {
    "papermill": {
     "duration": 0.017774,
     "end_time": "2024-03-28T21:59:26.894431",
     "exception": false,
     "start_time": "2024-03-28T21:59:26.876657",
     "status": "completed"
    },
    "tags": []
   },
   "source": [
    "> # Model Building"
   ]
  },
  {
   "cell_type": "code",
   "execution_count": 30,
   "id": "035d2d34",
   "metadata": {
    "execution": {
     "iopub.execute_input": "2024-03-28T21:59:26.931817Z",
     "iopub.status.busy": "2024-03-28T21:59:26.931438Z",
     "iopub.status.idle": "2024-03-28T21:59:40.780560Z",
     "shell.execute_reply": "2024-03-28T21:59:40.779247Z"
    },
    "papermill": {
     "duration": 13.87133,
     "end_time": "2024-03-28T21:59:40.783522",
     "exception": false,
     "start_time": "2024-03-28T21:59:26.912192",
     "status": "completed"
    },
    "tags": []
   },
   "outputs": [
    {
     "name": "stderr",
     "output_type": "stream",
     "text": [
      "2024-03-28 21:59:29.248268: E external/local_xla/xla/stream_executor/cuda/cuda_dnn.cc:9261] Unable to register cuDNN factory: Attempting to register factory for plugin cuDNN when one has already been registered\n",
      "2024-03-28 21:59:29.248428: E external/local_xla/xla/stream_executor/cuda/cuda_fft.cc:607] Unable to register cuFFT factory: Attempting to register factory for plugin cuFFT when one has already been registered\n",
      "2024-03-28 21:59:29.420236: E external/local_xla/xla/stream_executor/cuda/cuda_blas.cc:1515] Unable to register cuBLAS factory: Attempting to register factory for plugin cuBLAS when one has already been registered\n"
     ]
    }
   ],
   "source": [
    "#Importing Required Deep Learning Libraries\n",
    "import tensorflow as tf\n",
    "from tensorflow import keras\n",
    "from keras import Sequential\n",
    "from keras.layers import Dense"
   ]
  },
  {
   "cell_type": "code",
   "execution_count": 31,
   "id": "04f2f619",
   "metadata": {
    "execution": {
     "iopub.execute_input": "2024-03-28T21:59:40.821473Z",
     "iopub.status.busy": "2024-03-28T21:59:40.820389Z",
     "iopub.status.idle": "2024-03-28T21:59:40.908986Z",
     "shell.execute_reply": "2024-03-28T21:59:40.907802Z"
    },
    "papermill": {
     "duration": 0.11049,
     "end_time": "2024-03-28T21:59:40.911693",
     "exception": false,
     "start_time": "2024-03-28T21:59:40.801203",
     "status": "completed"
    },
    "tags": []
   },
   "outputs": [
    {
     "name": "stderr",
     "output_type": "stream",
     "text": [
      "/opt/conda/lib/python3.10/site-packages/keras/src/layers/core/dense.py:85: UserWarning: Do not pass an `input_shape`/`input_dim` argument to a layer. When using Sequential models, prefer using an `Input(shape)` object as the first layer in the model instead.\n",
      "  super().__init__(activity_regularizer=activity_regularizer, **kwargs)\n"
     ]
    }
   ],
   "source": [
    "#Model Creation\n",
    "model=Sequential()\n",
    "model.add(Dense(20,activation='relu',input_dim=11))\n",
    "model.add(Dense(20,activation=\"relu\"))\n",
    "model.add(Dense(1,activation='sigmoid'))"
   ]
  },
  {
   "cell_type": "code",
   "execution_count": 32,
   "id": "70e6ddb6",
   "metadata": {
    "execution": {
     "iopub.execute_input": "2024-03-28T21:59:40.949207Z",
     "iopub.status.busy": "2024-03-28T21:59:40.948291Z",
     "iopub.status.idle": "2024-03-28T21:59:40.969177Z",
     "shell.execute_reply": "2024-03-28T21:59:40.968228Z"
    },
    "papermill": {
     "duration": 0.04198,
     "end_time": "2024-03-28T21:59:40.971299",
     "exception": false,
     "start_time": "2024-03-28T21:59:40.929319",
     "status": "completed"
    },
    "tags": []
   },
   "outputs": [
    {
     "data": {
      "text/html": [
       "<pre style=\"white-space:pre;overflow-x:auto;line-height:normal;font-family:Menlo,'DejaVu Sans Mono',consolas,'Courier New',monospace\"><span style=\"font-weight: bold\">Model: \"sequential\"</span>\n",
       "</pre>\n"
      ],
      "text/plain": [
       "\u001b[1mModel: \"sequential\"\u001b[0m\n"
      ]
     },
     "metadata": {},
     "output_type": "display_data"
    },
    {
     "data": {
      "text/html": [
       "<pre style=\"white-space:pre;overflow-x:auto;line-height:normal;font-family:Menlo,'DejaVu Sans Mono',consolas,'Courier New',monospace\">┏━━━━━━━━━━━━━━━━━━━━━━━━━━━━━━━━━┳━━━━━━━━━━━━━━━━━━━━━━━━┳━━━━━━━━━━━━━━━┓\n",
       "┃<span style=\"font-weight: bold\"> Layer (type)                    </span>┃<span style=\"font-weight: bold\"> Output Shape           </span>┃<span style=\"font-weight: bold\">       Param # </span>┃\n",
       "┡━━━━━━━━━━━━━━━━━━━━━━━━━━━━━━━━━╇━━━━━━━━━━━━━━━━━━━━━━━━╇━━━━━━━━━━━━━━━┩\n",
       "│ dense (<span style=\"color: #0087ff; text-decoration-color: #0087ff\">Dense</span>)                   │ (<span style=\"color: #00d7ff; text-decoration-color: #00d7ff\">None</span>, <span style=\"color: #00af00; text-decoration-color: #00af00\">20</span>)             │           <span style=\"color: #00af00; text-decoration-color: #00af00\">240</span> │\n",
       "├─────────────────────────────────┼────────────────────────┼───────────────┤\n",
       "│ dense_1 (<span style=\"color: #0087ff; text-decoration-color: #0087ff\">Dense</span>)                 │ (<span style=\"color: #00d7ff; text-decoration-color: #00d7ff\">None</span>, <span style=\"color: #00af00; text-decoration-color: #00af00\">20</span>)             │           <span style=\"color: #00af00; text-decoration-color: #00af00\">420</span> │\n",
       "├─────────────────────────────────┼────────────────────────┼───────────────┤\n",
       "│ dense_2 (<span style=\"color: #0087ff; text-decoration-color: #0087ff\">Dense</span>)                 │ (<span style=\"color: #00d7ff; text-decoration-color: #00d7ff\">None</span>, <span style=\"color: #00af00; text-decoration-color: #00af00\">1</span>)              │            <span style=\"color: #00af00; text-decoration-color: #00af00\">21</span> │\n",
       "└─────────────────────────────────┴────────────────────────┴───────────────┘\n",
       "</pre>\n"
      ],
      "text/plain": [
       "┏━━━━━━━━━━━━━━━━━━━━━━━━━━━━━━━━━┳━━━━━━━━━━━━━━━━━━━━━━━━┳━━━━━━━━━━━━━━━┓\n",
       "┃\u001b[1m \u001b[0m\u001b[1mLayer (type)                   \u001b[0m\u001b[1m \u001b[0m┃\u001b[1m \u001b[0m\u001b[1mOutput Shape          \u001b[0m\u001b[1m \u001b[0m┃\u001b[1m \u001b[0m\u001b[1m      Param #\u001b[0m\u001b[1m \u001b[0m┃\n",
       "┡━━━━━━━━━━━━━━━━━━━━━━━━━━━━━━━━━╇━━━━━━━━━━━━━━━━━━━━━━━━╇━━━━━━━━━━━━━━━┩\n",
       "│ dense (\u001b[38;5;33mDense\u001b[0m)                   │ (\u001b[38;5;45mNone\u001b[0m, \u001b[38;5;34m20\u001b[0m)             │           \u001b[38;5;34m240\u001b[0m │\n",
       "├─────────────────────────────────┼────────────────────────┼───────────────┤\n",
       "│ dense_1 (\u001b[38;5;33mDense\u001b[0m)                 │ (\u001b[38;5;45mNone\u001b[0m, \u001b[38;5;34m20\u001b[0m)             │           \u001b[38;5;34m420\u001b[0m │\n",
       "├─────────────────────────────────┼────────────────────────┼───────────────┤\n",
       "│ dense_2 (\u001b[38;5;33mDense\u001b[0m)                 │ (\u001b[38;5;45mNone\u001b[0m, \u001b[38;5;34m1\u001b[0m)              │            \u001b[38;5;34m21\u001b[0m │\n",
       "└─────────────────────────────────┴────────────────────────┴───────────────┘\n"
      ]
     },
     "metadata": {},
     "output_type": "display_data"
    },
    {
     "data": {
      "text/html": [
       "<pre style=\"white-space:pre;overflow-x:auto;line-height:normal;font-family:Menlo,'DejaVu Sans Mono',consolas,'Courier New',monospace\"><span style=\"font-weight: bold\"> Total params: </span><span style=\"color: #00af00; text-decoration-color: #00af00\">681</span> (2.66 KB)\n",
       "</pre>\n"
      ],
      "text/plain": [
       "\u001b[1m Total params: \u001b[0m\u001b[38;5;34m681\u001b[0m (2.66 KB)\n"
      ]
     },
     "metadata": {},
     "output_type": "display_data"
    },
    {
     "data": {
      "text/html": [
       "<pre style=\"white-space:pre;overflow-x:auto;line-height:normal;font-family:Menlo,'DejaVu Sans Mono',consolas,'Courier New',monospace\"><span style=\"font-weight: bold\"> Trainable params: </span><span style=\"color: #00af00; text-decoration-color: #00af00\">681</span> (2.66 KB)\n",
       "</pre>\n"
      ],
      "text/plain": [
       "\u001b[1m Trainable params: \u001b[0m\u001b[38;5;34m681\u001b[0m (2.66 KB)\n"
      ]
     },
     "metadata": {},
     "output_type": "display_data"
    },
    {
     "data": {
      "text/html": [
       "<pre style=\"white-space:pre;overflow-x:auto;line-height:normal;font-family:Menlo,'DejaVu Sans Mono',consolas,'Courier New',monospace\"><span style=\"font-weight: bold\"> Non-trainable params: </span><span style=\"color: #00af00; text-decoration-color: #00af00\">0</span> (0.00 B)\n",
       "</pre>\n"
      ],
      "text/plain": [
       "\u001b[1m Non-trainable params: \u001b[0m\u001b[38;5;34m0\u001b[0m (0.00 B)\n"
      ]
     },
     "metadata": {},
     "output_type": "display_data"
    }
   ],
   "source": [
    "#Model Summary\n",
    "model.summary()"
   ]
  },
  {
   "cell_type": "code",
   "execution_count": 33,
   "id": "e9ffd717",
   "metadata": {
    "execution": {
     "iopub.execute_input": "2024-03-28T21:59:41.010666Z",
     "iopub.status.busy": "2024-03-28T21:59:41.010222Z",
     "iopub.status.idle": "2024-03-28T21:59:41.025489Z",
     "shell.execute_reply": "2024-03-28T21:59:41.024294Z"
    },
    "papermill": {
     "duration": 0.037995,
     "end_time": "2024-03-28T21:59:41.027939",
     "exception": false,
     "start_time": "2024-03-28T21:59:40.989944",
     "status": "completed"
    },
    "tags": []
   },
   "outputs": [],
   "source": [
    "#Model Compilation\n",
    "model.compile(loss='binary_crossentropy',optimizer='adam',metrics=['accuracy'])\n"
   ]
  },
  {
   "cell_type": "code",
   "execution_count": 34,
   "id": "d3b42e2c",
   "metadata": {
    "execution": {
     "iopub.execute_input": "2024-03-28T21:59:41.067391Z",
     "iopub.status.busy": "2024-03-28T21:59:41.066893Z",
     "iopub.status.idle": "2024-03-28T21:59:42.837026Z",
     "shell.execute_reply": "2024-03-28T21:59:42.835903Z"
    },
    "papermill": {
     "duration": 1.792818,
     "end_time": "2024-03-28T21:59:42.839563",
     "exception": false,
     "start_time": "2024-03-28T21:59:41.046745",
     "status": "completed"
    },
    "tags": []
   },
   "outputs": [
    {
     "name": "stdout",
     "output_type": "stream",
     "text": [
      "Epoch 1/10\n",
      "\u001b[1m6/6\u001b[0m \u001b[32m━━━━━━━━━━━━━━━━━━━━\u001b[0m\u001b[37m\u001b[0m \u001b[1m1s\u001b[0m 3ms/step - accuracy: 0.7586 - loss: 4077.5027\n",
      "Epoch 2/10\n",
      "\u001b[1m6/6\u001b[0m \u001b[32m━━━━━━━━━━━━━━━━━━━━\u001b[0m\u001b[37m\u001b[0m \u001b[1m0s\u001b[0m 3ms/step - accuracy: 0.6619 - loss: 957.9899 \n",
      "Epoch 3/10\n",
      "\u001b[1m6/6\u001b[0m \u001b[32m━━━━━━━━━━━━━━━━━━━━\u001b[0m\u001b[37m\u001b[0m \u001b[1m0s\u001b[0m 2ms/step - accuracy: 0.5518 - loss: 494.6143 \n",
      "Epoch 4/10\n",
      "\u001b[1m6/6\u001b[0m \u001b[32m━━━━━━━━━━━━━━━━━━━━\u001b[0m\u001b[37m\u001b[0m \u001b[1m0s\u001b[0m 2ms/step - accuracy: 0.7661 - loss: 578.9205 \n",
      "Epoch 5/10\n",
      "\u001b[1m6/6\u001b[0m \u001b[32m━━━━━━━━━━━━━━━━━━━━\u001b[0m\u001b[37m\u001b[0m \u001b[1m0s\u001b[0m 3ms/step - accuracy: 0.5149 - loss: 208.6036\n",
      "Epoch 6/10\n",
      "\u001b[1m6/6\u001b[0m \u001b[32m━━━━━━━━━━━━━━━━━━━━\u001b[0m\u001b[37m\u001b[0m \u001b[1m0s\u001b[0m 2ms/step - accuracy: 0.7889 - loss: 328.4048 \n",
      "Epoch 7/10\n",
      "\u001b[1m6/6\u001b[0m \u001b[32m━━━━━━━━━━━━━━━━━━━━\u001b[0m\u001b[37m\u001b[0m \u001b[1m0s\u001b[0m 2ms/step - accuracy: 0.6035 - loss: 213.0030 \n",
      "Epoch 8/10\n",
      "\u001b[1m6/6\u001b[0m \u001b[32m━━━━━━━━━━━━━━━━━━━━\u001b[0m\u001b[37m\u001b[0m \u001b[1m0s\u001b[0m 2ms/step - accuracy: 0.7726 - loss: 271.8559 \n",
      "Epoch 9/10\n",
      "\u001b[1m6/6\u001b[0m \u001b[32m━━━━━━━━━━━━━━━━━━━━\u001b[0m\u001b[37m\u001b[0m \u001b[1m0s\u001b[0m 2ms/step - accuracy: 0.5889 - loss: 161.4268 \n",
      "Epoch 10/10\n",
      "\u001b[1m6/6\u001b[0m \u001b[32m━━━━━━━━━━━━━━━━━━━━\u001b[0m\u001b[37m\u001b[0m \u001b[1m0s\u001b[0m 2ms/step - accuracy: 0.6206 - loss: 142.3474 \n"
     ]
    }
   ],
   "source": [
    "#Model Training\n",
    "history=model.fit(f_train,t_train,epochs=10,verbose=True)"
   ]
  },
  {
   "cell_type": "code",
   "execution_count": 35,
   "id": "7c995232",
   "metadata": {
    "execution": {
     "iopub.execute_input": "2024-03-28T21:59:42.884872Z",
     "iopub.status.busy": "2024-03-28T21:59:42.884439Z",
     "iopub.status.idle": "2024-03-28T21:59:43.049500Z",
     "shell.execute_reply": "2024-03-28T21:59:43.048372Z"
    },
    "papermill": {
     "duration": 0.190804,
     "end_time": "2024-03-28T21:59:43.052207",
     "exception": false,
     "start_time": "2024-03-28T21:59:42.861403",
     "status": "completed"
    },
    "tags": []
   },
   "outputs": [
    {
     "name": "stdout",
     "output_type": "stream",
     "text": [
      "\u001b[1m4/4\u001b[0m \u001b[32m━━━━━━━━━━━━━━━━━━━━\u001b[0m\u001b[37m\u001b[0m \u001b[1m0s\u001b[0m 13ms/step\n"
     ]
    }
   ],
   "source": [
    "#Model Prediction\n",
    "t_pred=model.predict(f_test)"
   ]
  },
  {
   "cell_type": "code",
   "execution_count": 36,
   "id": "7f347663",
   "metadata": {
    "execution": {
     "iopub.execute_input": "2024-03-28T21:59:43.098506Z",
     "iopub.status.busy": "2024-03-28T21:59:43.098078Z",
     "iopub.status.idle": "2024-03-28T21:59:43.187765Z",
     "shell.execute_reply": "2024-03-28T21:59:43.186579Z"
    },
    "papermill": {
     "duration": 0.116325,
     "end_time": "2024-03-28T21:59:43.190760",
     "exception": false,
     "start_time": "2024-03-28T21:59:43.074435",
     "status": "completed"
    },
    "tags": []
   },
   "outputs": [
    {
     "name": "stdout",
     "output_type": "stream",
     "text": [
      "\u001b[1m6/6\u001b[0m \u001b[32m━━━━━━━━━━━━━━━━━━━━\u001b[0m\u001b[37m\u001b[0m \u001b[1m0s\u001b[0m 1ms/step \n"
     ]
    }
   ],
   "source": [
    "#Model Prediction\n",
    "t_train_pred=model.predict(f_train)"
   ]
  },
  {
   "cell_type": "code",
   "execution_count": 37,
   "id": "647e7c11",
   "metadata": {
    "execution": {
     "iopub.execute_input": "2024-03-28T21:59:43.236999Z",
     "iopub.status.busy": "2024-03-28T21:59:43.235884Z",
     "iopub.status.idle": "2024-03-28T21:59:43.242766Z",
     "shell.execute_reply": "2024-03-28T21:59:43.241621Z"
    },
    "papermill": {
     "duration": 0.032599,
     "end_time": "2024-03-28T21:59:43.245152",
     "exception": false,
     "start_time": "2024-03-28T21:59:43.212553",
     "status": "completed"
    },
    "tags": []
   },
   "outputs": [],
   "source": [
    "t_pred=np.where(t_pred>0.5,1,0)"
   ]
  },
  {
   "cell_type": "code",
   "execution_count": 38,
   "id": "335c438d",
   "metadata": {
    "execution": {
     "iopub.execute_input": "2024-03-28T21:59:43.291489Z",
     "iopub.status.busy": "2024-03-28T21:59:43.290810Z",
     "iopub.status.idle": "2024-03-28T21:59:43.295126Z",
     "shell.execute_reply": "2024-03-28T21:59:43.294315Z"
    },
    "papermill": {
     "duration": 0.030422,
     "end_time": "2024-03-28T21:59:43.297407",
     "exception": false,
     "start_time": "2024-03-28T21:59:43.266985",
     "status": "completed"
    },
    "tags": []
   },
   "outputs": [],
   "source": [
    "t_train_pred=np.where(t_train_pred>0.5,1,0)"
   ]
  },
  {
   "cell_type": "code",
   "execution_count": 39,
   "id": "13a744ee",
   "metadata": {
    "execution": {
     "iopub.execute_input": "2024-03-28T21:59:43.342881Z",
     "iopub.status.busy": "2024-03-28T21:59:43.342309Z",
     "iopub.status.idle": "2024-03-28T21:59:43.558615Z",
     "shell.execute_reply": "2024-03-28T21:59:43.557489Z"
    },
    "papermill": {
     "duration": 0.241972,
     "end_time": "2024-03-28T21:59:43.561137",
     "exception": false,
     "start_time": "2024-03-28T21:59:43.319165",
     "status": "completed"
    },
    "tags": []
   },
   "outputs": [
    {
     "name": "stdout",
     "output_type": "stream",
     "text": [
      "\u001b[1m6/6\u001b[0m \u001b[32m━━━━━━━━━━━━━━━━━━━━\u001b[0m\u001b[37m\u001b[0m \u001b[1m0s\u001b[0m 2ms/step - accuracy: 0.7478 - loss: 229.3230  \n"
     ]
    },
    {
     "data": {
      "text/plain": [
       "[208.8799591064453, 0.7660818696022034]"
      ]
     },
     "execution_count": 39,
     "metadata": {},
     "output_type": "execute_result"
    }
   ],
   "source": [
    "#Model Evalution\n",
    "model.evaluate(f_train,t_train)"
   ]
  },
  {
   "cell_type": "code",
   "execution_count": 40,
   "id": "244dc36d",
   "metadata": {
    "execution": {
     "iopub.execute_input": "2024-03-28T21:59:43.607385Z",
     "iopub.status.busy": "2024-03-28T21:59:43.606978Z",
     "iopub.status.idle": "2024-03-28T21:59:43.615390Z",
     "shell.execute_reply": "2024-03-28T21:59:43.614570Z"
    },
    "papermill": {
     "duration": 0.034462,
     "end_time": "2024-03-28T21:59:43.617926",
     "exception": false,
     "start_time": "2024-03-28T21:59:43.583464",
     "status": "completed"
    },
    "tags": []
   },
   "outputs": [
    {
     "name": "stdout",
     "output_type": "stream",
     "text": [
      "Accuracy of Model on Testing is 75.43859649122807\n",
      "Accuracy of Model on Training is 76.60818713450293\n"
     ]
    }
   ],
   "source": [
    "#Model Accuracy \n",
    "from sklearn.metrics import accuracy_score\n",
    "print(f\"Accuracy of Model on Testing is {accuracy_score(t_test,t_pred)*100}\")\n",
    "\n",
    "from sklearn.metrics import accuracy_score\n",
    "print(f\"Accuracy of Model on Training is {accuracy_score(t_train,t_train_pred)*100}\")"
   ]
  },
  {
   "cell_type": "code",
   "execution_count": null,
   "id": "e0f8d843",
   "metadata": {
    "papermill": {
     "duration": 0.021906,
     "end_time": "2024-03-28T21:59:43.661917",
     "exception": false,
     "start_time": "2024-03-28T21:59:43.640011",
     "status": "completed"
    },
    "tags": []
   },
   "outputs": [],
   "source": []
  }
 ],
 "metadata": {
  "kaggle": {
   "accelerator": "none",
   "dataSources": [
    {
     "datasetId": 4527983,
     "sourceId": 7745817,
     "sourceType": "datasetVersion"
    }
   ],
   "dockerImageVersionId": 30673,
   "isGpuEnabled": false,
   "isInternetEnabled": true,
   "language": "python",
   "sourceType": "notebook"
  },
  "kernelspec": {
   "display_name": "Python 3",
   "language": "python",
   "name": "python3"
  },
  "language_info": {
   "codemirror_mode": {
    "name": "ipython",
    "version": 3
   },
   "file_extension": ".py",
   "mimetype": "text/x-python",
   "name": "python",
   "nbconvert_exporter": "python",
   "pygments_lexer": "ipython3",
   "version": "3.10.13"
  },
  "papermill": {
   "default_parameters": {},
   "duration": 26.21784,
   "end_time": "2024-03-28T21:59:46.010949",
   "environment_variables": {},
   "exception": null,
   "input_path": "__notebook__.ipynb",
   "output_path": "__notebook__.ipynb",
   "parameters": {},
   "start_time": "2024-03-28T21:59:19.793109",
   "version": "2.5.0"
  }
 },
 "nbformat": 4,
 "nbformat_minor": 5
}
